{
 "cells": [
  {
   "cell_type": "markdown",
   "metadata": {},
   "source": [
    "## Trabajo Practico\n"
   ]
  },
  {
   "cell_type": "code",
   "execution_count": 3,
   "metadata": {},
   "outputs": [
    {
     "name": "stderr",
     "output_type": "stream",
     "text": [
      "/usr/local/lib/python3.8/dist-packages/pandas/core/computation/expressions.py:20: UserWarning: Pandas requires version '2.7.3' or newer of 'numexpr' (version '2.7.1' currently installed).\n",
      "  from pandas.core.computation.check import NUMEXPR_INSTALLED\n"
     ]
    }
   ],
   "source": [
    "import pandas as pd\n",
    "import numpy as np\n",
    "import matplotlib.pyplot as plt"
   ]
  },
  {
   "cell_type": "markdown",
   "metadata": {},
   "source": []
  },
  {
   "cell_type": "markdown",
   "metadata": {},
   "source": [
    "#### Ejercicio 1"
   ]
  },
  {
   "cell_type": "code",
   "execution_count": 4,
   "metadata": {},
   "outputs": [],
   "source": [
    "#(a)\n",
    "df_wine = pd.read_csv('./wine.csv')"
   ]
  },
  {
   "cell_type": "code",
   "execution_count": 5,
   "metadata": {},
   "outputs": [
    {
     "name": "stdout",
     "output_type": "stream",
     "text": [
      "Index(['Alcohol', 'Malic_Acid', 'Ash', 'Ash_Alcanity', 'Magnesium',\n",
      "       'Total_Phenols', 'Flavanoids', 'Nonflavanoid_Phenols',\n",
      "       'Proanthocyanins', 'Color_Intensity', 'Hue', 'OD280', 'Proline',\n",
      "       'Customer_Segment'],\n",
      "      dtype='object')\n"
     ]
    }
   ],
   "source": [
    "#(b)\n",
    "print(df_wine.columns)\n",
    "# Variables independientes:\n",
    "variables_independientes = ['Alcohol', 'Malic_Acid', 'Ash', 'Ash_Alcanity', 'Magnesium',\n",
    "                            'Total_Phenols', 'Flavanoids', 'Nonflavanoid_Phenols',\n",
    "                            'Proanthocyanins', 'Color_Intensity', 'Hue', 'OD280', 'Proline']\n",
    "# Variable dependiente:\n",
    "variables_dependientes =['Customer_Segment']"
   ]
  },
  {
   "cell_type": "code",
   "execution_count": 6,
   "metadata": {},
   "outputs": [],
   "source": [
    "#(c)\n",
    "#función que normaliza y centra respecto del promedio \n",
    "def normalizacion(df):# recibe un Data Frame que contenga solamente las variables independientes    \n",
    "    \n",
    "    # inicialización de variables\n",
    "    df_norm = pd.DataFrame() \n",
    "    \n",
    "    # Normalización\n",
    "    for i in df.columns:\n",
    "        # normalización de cada atributo\n",
    "        X= df[i] \n",
    "        X_prom = X.mean() # calculamos el promedio     # usar pandas o programarlas?\n",
    "        s = X.std() #calculamos la desviación estándar\n",
    "        X_norm = [] \n",
    "        \n",
    "        for j in range(len(X)): \n",
    "            # normalización de cada elemento\n",
    "            xj= (X[j] - X_prom)/s\n",
    "            X_norm.append(xj) \n",
    "        \n",
    "        df_norm[i] = X_norm #agrega cada atributo normalizado al data frame normalizado\n",
    "    \n",
    "    return df_norm\n",
    "\n",
    "df_wine_independientes = df_wine[variables_independientes]\n",
    "\n",
    "df_wine_norm = normalizacion(df_wine_independientes)\n",
    "df_wine_dependientes = df_wine[variables_dependientes]"
   ]
  },
  {
   "cell_type": "markdown",
   "metadata": {},
   "source": []
  },
  {
   "cell_type": "code",
   "execution_count": 7,
   "metadata": {},
   "outputs": [],
   "source": [
    "#(d)\n",
    "#pasamos el data frame a una matriz\n",
    "matriz_wine_norm = df_wine_norm.values\n",
    "\n",
    "#calculamos la matriz de covarianza\n",
    "wine_cov = (matriz_wine_norm.T @ matriz_wine_norm)/177"
   ]
  },
  {
   "cell_type": "code",
   "execution_count": 8,
   "metadata": {},
   "outputs": [
    {
     "name": "stdout",
     "output_type": "stream",
     "text": [
      "4.705850252990423 [ 0.1443294  -0.24518758 -0.00205106 -0.23932041  0.14199204  0.39466085\n",
      "  0.4229343  -0.2985331   0.31342949 -0.0886167   0.29671456  0.37616741\n",
      "  0.28675223]\n"
     ]
    }
   ],
   "source": [
    "#(e)\n",
    "def metodo_potencia(m, its=100):\n",
    "  \n",
    "    v = np.random.rand(m.shape[0])  # Inicializar un vector aleatorio\n",
    "    for i in range(its):\n",
    "        v = np.dot(m, v)\n",
    "        v = v / np.linalg.norm(v)  # Normalizar el vector en cada iteración\n",
    "    \n",
    "    AutoValor = np.dot(np.dot(m, v), v) / np.dot(v, v) \n",
    "    AutoVector = v\n",
    "    return AutoValor, AutoVector\n",
    "\n",
    "max_Aval_wine_cov, Avec_de_max_Aval_wine_cov = metodo_potencia(wine_cov)\n",
    "\n",
    "print(max_Aval_wine_cov, Avec_de_max_Aval_wine_cov)"
   ]
  },
  {
   "cell_type": "code",
   "execution_count": 9,
   "metadata": {},
   "outputs": [
    {
     "name": "stdout",
     "output_type": "stream",
     "text": [
      "[5.0, 4.0] [array([0.70710678, 0.70710678]), array([-0.98994949,  0.14142136])]\n"
     ]
    }
   ],
   "source": [
    "#(f)\n",
    "def todos_Avals_Avects(A, n):\n",
    "    Avals = []\n",
    "    Avects = []\n",
    "    Aval = 0\n",
    "    Avect = np.zeros(A.shape[0])\n",
    "    for i in range(0,n):\n",
    "        A = A - Aval*np.outer(Avect,Avect)\n",
    "        Aval, Avect = metodo_potencia(A)\n",
    "        Avals.append(round(Aval, 5))\n",
    "        Avects.append(Avect)\n",
    "    return Avals, Avects\n",
    "\n",
    "A= np.array([[6,-1],[2,3]])   \n",
    "Avals, V = todos_Avals_Avects(A,2)\n",
    "    \n",
    "print(Avals, V)\n"
   ]
  },
  {
   "cell_type": "code",
   "execution_count": 10,
   "metadata": {},
   "outputs": [],
   "source": [
    "#(g)\n",
    "# buscamos autovalores y autovectores de la matriz de covarianza\n",
    "Avals, Avects = todos_Avals_Avects(wine_cov, 13)\n",
    "\n",
    "# Sea V  la matriz con los autovectores por columnas  \n",
    "V = np.array(Avects).T\n",
    "# Sea D la matriz diagonal con los autovalores en la diagonal ordenados de mayor a menor\n",
    "D = np.diag(Avals)\n",
    "\n",
    "# decidimos tomar como los autovalores mas relevantes a los primeros 3"
   ]
  },
  {
   "cell_type": "code",
   "execution_count": 11,
   "metadata": {},
   "outputs": [],
   "source": [
    "def distancia(v1,v2):\n",
    "    x = 0\n",
    "    for i in  range(v1.shape[0]):\n",
    "        x += (v1[i]-v2[i])**2\n",
    "    return np.sqrt(x)\n",
    "\n",
    "\n",
    "def KNN(T_test, T_train, Y_train, K): # devuelve Y_estimado\n",
    "    Y_estimado = []\n",
    "    for i in range(len(T_test)):\n",
    "        # Calculo las distancias\n",
    "        distancias = []\n",
    "        for j in range(len(T_train)):\n",
    "            distancias.append((distancia(T_test[i],T_train[j]), j))\n",
    "        # Ordeno las distancias, manteniendo el indice de la fila\n",
    "        distancias.sort()\n",
    "        # Calculo los resultados\n",
    "        resultados = {\n",
    "            1:0,\n",
    "            2:0,\n",
    "            3:0\n",
    "        }\n",
    "        for k in range(K):\n",
    "            resultados[Y_train[distancias[k][1]]] += 1\n",
    "        # Agrego el resultado que mas veces apareció en los k vecinos mas cercanos\n",
    "        Y_estimado.append(max(resultados, key=resultados.get))\n",
    "    return Y_estimado"
   ]
  },
  {
   "cell_type": "code",
   "execution_count": 12,
   "metadata": {},
   "outputs": [],
   "source": [
    "# Separo los datos en train y test\n",
    "from sklearn.model_selection import train_test_split"
   ]
  },
  {
   "cell_type": "code",
   "execution_count": 117,
   "metadata": {},
   "outputs": [
    {
     "name": "stdout",
     "output_type": "stream",
     "text": [
      "0.05555555555555555\n"
     ]
    }
   ],
   "source": [
    "# Dividimos el dataframe normalizado en casos de train y en casos de test\n",
    "X_train, X_test, Y_train, Y_test = train_test_split(df_wine_norm, df_wine_dependientes, test_size=0.2, random_state=0)\n",
    "\n",
    "# Definimos la matriz de covarianza para los casos de train\n",
    "X_train_cov = (X_train.T @ X_train)/len(X_train)\n",
    "\n",
    "# buscamos autovalores y autovectores de la matriz de covarianza\n",
    "Avals, Avects = todos_Avals_Avects(X_train_cov, 13)\n",
    "\n",
    "# Sea V  la matriz con los autovectores por columnas  \n",
    "V = np.array(Avects).T\n",
    "\n",
    "CP = 4 # Cantidad de componentes principales\n",
    "K = 5 # Nearest neigbours\n",
    "\n",
    "# Calculo las componentes principales\n",
    "T_train = (X_train @ V[:,:CP]).values # el .values convierte el df en un np array\n",
    "T_test = (X_test @ V[:,:CP]).values\n",
    "\n",
    "Y_train = Y_train['Customer_Segment'].to_numpy() # Agarra la columna 'Customer_Segment' y la convierte en un np array\n",
    "Y_test = Y_test['Customer_Segment'].to_numpy()\n",
    "\n",
    "# Calculo el Y estimado\n",
    "Y_estimado = KNN(T_test, T_train, Y_train, K)\n",
    "\n",
    "# Calculo el error\n",
    "error = 0\n",
    "for i in range(len(Y_test)):\n",
    "    if Y_test[i] != Y_estimado[i]:\n",
    "        error += 1\n",
    "error = error/len(Y_test)\n",
    "\n",
    "print(error)"
   ]
  },
  {
   "cell_type": "code",
   "execution_count": null,
   "metadata": {},
   "outputs": [],
   "source": []
  },
  {
   "cell_type": "code",
   "execution_count": null,
   "metadata": {},
   "outputs": [],
   "source": []
  },
  {
   "cell_type": "code",
   "execution_count": null,
   "metadata": {},
   "outputs": [],
   "source": []
  },
  {
   "cell_type": "code",
   "execution_count": null,
   "metadata": {},
   "outputs": [],
   "source": []
  },
  {
   "cell_type": "code",
   "execution_count": null,
   "metadata": {},
   "outputs": [],
   "source": []
  },
  {
   "cell_type": "code",
   "execution_count": null,
   "metadata": {},
   "outputs": [],
   "source": []
  },
  {
   "cell_type": "code",
   "execution_count": null,
   "metadata": {},
   "outputs": [],
   "source": []
  },
  {
   "cell_type": "code",
   "execution_count": null,
   "metadata": {},
   "outputs": [],
   "source": []
  },
  {
   "cell_type": "code",
   "execution_count": null,
   "metadata": {},
   "outputs": [],
   "source": []
  }
 ],
 "metadata": {
  "kernelspec": {
   "display_name": "Python 3",
   "language": "python",
   "name": "python3"
  },
  "language_info": {
   "codemirror_mode": {
    "name": "ipython",
    "version": 3
   },
   "file_extension": ".py",
   "mimetype": "text/x-python",
   "name": "python",
   "nbconvert_exporter": "python",
   "pygments_lexer": "ipython3",
   "version": "3.8.10"
  }
 },
 "nbformat": 4,
 "nbformat_minor": 4
}
