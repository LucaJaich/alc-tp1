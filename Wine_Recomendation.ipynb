{
 "cells": [
  {
   "cell_type": "markdown",
   "metadata": {},
   "source": [
    "## Trabajo Practico\n"
   ]
  },
  {
   "cell_type": "code",
   "execution_count": 1,
   "metadata": {},
   "outputs": [],
   "source": [
    "import pandas as pd\n",
    "import numpy as np\n",
    "import matplotlib.pyplot as plt"
   ]
  },
  {
   "cell_type": "markdown",
   "metadata": {},
   "source": []
  },
  {
   "cell_type": "markdown",
   "metadata": {},
   "source": [
    "#### Ejercicio 1"
   ]
  },
  {
   "cell_type": "code",
   "execution_count": 2,
   "metadata": {},
   "outputs": [],
   "source": [
    "#(a)\n",
    "df_wine = pd.read_csv('./wine.csv')"
   ]
  },
  {
   "cell_type": "code",
   "execution_count": 3,
   "metadata": {},
   "outputs": [
    {
     "name": "stdout",
     "output_type": "stream",
     "text": [
      "Index(['Alcohol', 'Malic_Acid', 'Ash', 'Ash_Alcanity', 'Magnesium',\n",
      "       'Total_Phenols', 'Flavanoids', 'Nonflavanoid_Phenols',\n",
      "       'Proanthocyanins', 'Color_Intensity', 'Hue', 'OD280', 'Proline',\n",
      "       'Customer_Segment'],\n",
      "      dtype='object')\n"
     ]
    }
   ],
   "source": [
    "#(b)\n",
    "print(df_wine.columns)\n",
    "# Variables independientes:\n",
    "variables_independientes = ['Alcohol', 'Malic_Acid', 'Ash', 'Ash_Alcanity', 'Magnesium',\n",
    "                            'Total_Phenols', 'Flavanoids', 'Nonflavanoid_Phenols',\n",
    "                            'Proanthocyanins', 'Color_Intensity', 'Hue', 'OD280', 'Proline']\n",
    "# Variable dependiente:\n",
    "variables_dependientes =['Customer_Segment']"
   ]
  },
  {
   "cell_type": "code",
   "execution_count": 16,
   "metadata": {},
   "outputs": [],
   "source": [
    "#(c)\n",
    "#función que normaliza y centra respecto del promedio \n",
    "def normalizacion(df):# recibe un Data Frame que contenga solamente las variables independientes    \n",
    "    \n",
    "    # inicialización de variables\n",
    "    df_norm = pd.DataFrame() \n",
    "    \n",
    "    # Normalización\n",
    "    for i in df.columns:\n",
    "        # normalización de cada atributo\n",
    "        X= df[i] \n",
    "        X_prom = X.mean() # calculamos el promedio     # usar pandas o programarlas?\n",
    "        s = X.std() #calculamos la desviación estándar\n",
    "        X_norm = [] \n",
    "        \n",
    "        for j in range(len(X)): \n",
    "            # normalización de cada elemento\n",
    "            xj= (X[j] - X_prom)/s\n",
    "            X_norm.append(xj) \n",
    "        \n",
    "        df_norm[i] = X_norm #agrega cada atributo normalizado al data frame normalizado\n",
    "    \n",
    "    return df_norm\n",
    "\n",
    "df_wine_independientes = df_wine[variables_independientes]\n",
    "\n",
    "df_wine_norm = normalizacion(df_wine_independientes)\n",
    "df_wine_dependientes = df_wine[variables_dependientes]"
   ]
  },
  {
   "cell_type": "markdown",
   "metadata": {},
   "source": []
  },
  {
   "cell_type": "code",
   "execution_count": 5,
   "metadata": {},
   "outputs": [],
   "source": [
    "#(d)\n",
    "#pasamos el data frame a una matriz\n",
    "matriz_wine_norm = df_wine_norm.values\n",
    "\n",
    "#calculamos la matriz de covarianza\n",
    "wine_cov = (matriz_wine_norm.T @ matriz_wine_norm)/177"
   ]
  },
  {
   "cell_type": "code",
   "execution_count": 6,
   "metadata": {},
   "outputs": [
    {
     "name": "stdout",
     "output_type": "stream",
     "text": [
      "4.705850252990423 [ 0.1443294  -0.24518758 -0.00205106 -0.23932041  0.14199204  0.39466085\n",
      "  0.4229343  -0.2985331   0.31342949 -0.0886167   0.29671456  0.37616741\n",
      "  0.28675223]\n"
     ]
    }
   ],
   "source": [
    "#(e)\n",
    "def metodo_potencia(m, its=100):\n",
    "  \n",
    "    v = np.random.rand(m.shape[0])  # Inicializar un vector aleatorio\n",
    "    for i in range(its):\n",
    "        v = np.dot(m, v)\n",
    "        v = v / np.linalg.norm(v)  # Normalizar el vector en cada iteración\n",
    "    \n",
    "    AutoValor = np.dot(np.dot(m, v), v) / np.dot(v, v) \n",
    "    AutoVector = v\n",
    "    return AutoValor, AutoVector\n",
    "\n",
    "max_Aval_wine_cov, Avec_de_max_Aval_wine_cov = metodo_potencia(wine_cov)\n",
    "\n",
    "print(max_Aval_wine_cov, Avec_de_max_Aval_wine_cov)"
   ]
  },
  {
   "cell_type": "code",
   "execution_count": 8,
   "metadata": {},
   "outputs": [
    {
     "name": "stdout",
     "output_type": "stream",
     "text": [
      "[5.0, 4.0] [array([0.70710678, 0.70710678]), array([-0.98994949,  0.14142136])]\n"
     ]
    }
   ],
   "source": [
    "#(f)\n",
    "def todos_Avals_Avects(A, n):\n",
    "    Avals = []\n",
    "    Avects = []\n",
    "    Aval = 0\n",
    "    Avect = np.zeros(A.shape[0])\n",
    "    for i in range(0,n):\n",
    "        A = A - Aval*np.outer(Avect,Avect)\n",
    "        Aval, Avect = metodo_potencia(A)\n",
    "        Avals.append(round(Aval, 5))\n",
    "        Avects.append(Avect)\n",
    "    return Avals, Avects\n",
    "\n",
    "A= np.array([[6,-1],[2,3]])   \n",
    "Avals, V = todos_Avals_Avects(A,2)\n",
    "    \n",
    "print(Avals, V)\n"
   ]
  },
  {
   "cell_type": "code",
   "execution_count": 9,
   "metadata": {},
   "outputs": [],
   "source": [
    "#(g)\n",
    "# buscamos autovalores y autovectores de la matriz de covarianza\n",
    "Avals, Avects = todos_Avals_Avects(wine_cov, 13)\n",
    "\n",
    "# Sea V  la matriz con los autovectores por columnas  \n",
    "V = np.array(Avects).T\n",
    "# Sea D la matriz diagonal con los autovalores en la diagonal ordenados de mayor a menor\n",
    "D = np.diag(Avals)\n",
    "\n",
    "# decidimos tomar como los autovalores mas relevantes a los primeros 3"
   ]
  },
  {
   "cell_type": "code",
   "execution_count": 18,
   "metadata": {},
   "outputs": [
    {
     "ename": "SyntaxError",
     "evalue": "expected ':' (919865618.py, line 19)",
     "output_type": "error",
     "traceback": [
      "\u001b[1;36m  Cell \u001b[1;32mIn[18], line 19\u001b[1;36m\u001b[0m\n\u001b[1;33m    for i in  range(v1.shape[0])\u001b[0m\n\u001b[1;37m                                ^\u001b[0m\n\u001b[1;31mSyntaxError\u001b[0m\u001b[1;31m:\u001b[0m expected ':'\n"
     ]
    }
   ],
   "source": [
    "#(g)\n",
    "#entonces nos quedamos solamente con los primeros 3 componentes principales\n",
    "Avals, Avects = todos_Avals_Avects(wine_cov, 3)\n",
    "W = np.array(Avects).T\n",
    "D = np.diag(Avals)\n",
    "\n",
    "\n",
    "Y_train = df_wine_dependientes.values\n",
    "T_train = matriz_wine_norm @ W\n",
    "#Y_train_T_train = \n",
    "# dividimos el Data Frame normalizado en Train y Test Cases\n",
    "\n",
    "# insertar divicion\n",
    "\n",
    "\n",
    "\n",
    "def distancia(v1,v2):\n",
    "    x = 0\n",
    "    for i in  range(v1.shape[0]):\n",
    "        x += (v1[i]-v2[i])**2\n",
    "    return sqrt(x)\n",
    "\n",
    "\n",
    "def KNN(T_test, T_train, Y_train, K): # devuelve Y_estimado\n",
    "    cant_CP = T_train.shape[1]\n",
    "    for i in T_test:\n",
    "        distancias = []\n",
    "        for j in T_train:\n",
    "            distancias.append(distancia(T_test[i],T_train[j]))\n",
    "            \n",
    "\n"
   ]
  },
  {
   "cell_type": "code",
   "execution_count": null,
   "metadata": {},
   "outputs": [],
   "source": []
  }
 ],
 "metadata": {
  "kernelspec": {
   "display_name": "Python 3",
   "language": "python",
   "name": "python3"
  },
  "language_info": {
   "codemirror_mode": {
    "name": "ipython",
    "version": 3
   },
   "file_extension": ".py",
   "mimetype": "text/x-python",
   "name": "python",
   "nbconvert_exporter": "python",
   "pygments_lexer": "ipython3",
   "version": "3.11.6"
  }
 },
 "nbformat": 4,
 "nbformat_minor": 2
}
