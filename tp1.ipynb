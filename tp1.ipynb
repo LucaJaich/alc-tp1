{
 "cells": [
  {
   "cell_type": "code",
   "execution_count": 3,
   "metadata": {},
   "outputs": [],
   "source": [
    "import numpy as np"
   ]
  },
  {
   "cell_type": "markdown",
   "metadata": {},
   "source": [
    "Ejercicio 1 - Implementar descompLU: "
   ]
  },
  {
   "cell_type": "code",
   "execution_count": 10,
   "metadata": {},
   "outputs": [],
   "source": [
    "def descompLU(A):\n",
    "    # Como no hay pivoteo, si A[0][0] es 0, debe tirar error\n",
    "    if A[0][0] == 0:\n",
    "        print('ERROR: el elemento A[0][0] es 0')\n",
    "        return np.eye(A.shape[0]), A\n",
    "    # Caso Base\n",
    "    if A.shape == (1,1):\n",
    "        return 1, A[0][0] \n",
    "\n",
    "    # Busco los datos para armar mis matrices L y U\n",
    "    u11 = A[0][0]\n",
    "    U12 = A[0][1:]\n",
    "    L21 = A[1:,0] / u11\n",
    "    L22U22 = A[1:,1:] - np.outer(L21, U12)\n",
    "\n",
    "    # empiezo a armar mi L, U de cada vuelta de la recursión\n",
    "    L22, U22 = descompLU(L22U22)\n",
    "\n",
    "    U = np.zeros(A.shape)\n",
    "    U[0][0] = u11\n",
    "    U[0][1:] = U12\n",
    "    U[1:, 1:] = U22\n",
    "\n",
    "    L = np.eye(A.shape[0])\n",
    "    L[1:,0] = L21\n",
    "    L[1:, 1:] = L22\n",
    "\n",
    "    return L, U"
   ]
  },
  {
   "cell_type": "markdown",
   "metadata": {},
   "source": [
    "Ejemplo de uso:"
   ]
  },
  {
   "cell_type": "code",
   "execution_count": 11,
   "metadata": {},
   "outputs": [
    {
     "name": "stdout",
     "output_type": "stream",
     "text": [
      "ERROR: el elemento A[0][0] es 0\n",
      "[[1. 0. 0.]\n",
      " [4. 1. 0.]\n",
      " [7. 2. 1.]] \n",
      "\n",
      "[[ 1.  2.  3.]\n",
      " [ 0. -3. -6.]\n",
      " [ 0.  0.  0.]]\n"
     ]
    }
   ],
   "source": [
    "A = np.array([[1,2,3], [4,5,6], [7,8,9]])\n",
    "L, U = descompLU(A)\n",
    "\n",
    "print(L,\"\\n\")\n",
    "print(U)"
   ]
  },
  {
   "cell_type": "code",
   "execution_count": null,
   "metadata": {},
   "outputs": [],
   "source": [
    "def resolverLU(A, b):\n",
    "    L, U = descompLU(A)\n",
    "    "
   ]
  }
 ],
 "metadata": {
  "kernelspec": {
   "display_name": "Python 3",
   "language": "python",
   "name": "python3"
  },
  "language_info": {
   "codemirror_mode": {
    "name": "ipython",
    "version": 3
   },
   "file_extension": ".py",
   "mimetype": "text/x-python",
   "name": "python",
   "nbconvert_exporter": "python",
   "pygments_lexer": "ipython3",
   "version": "3.10.4"
  },
  "orig_nbformat": 4
 },
 "nbformat": 4,
 "nbformat_minor": 2
}
