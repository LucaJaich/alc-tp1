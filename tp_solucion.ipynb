{
 "cells": [
  {
   "cell_type": "markdown",
   "metadata": {},
   "source": [
    "#### Trabajo Práctico N° 1\n",
    "##### Resolución de sistemas lineales con descomposición LU\n",
    "Facultad de Ciencias Exactas y Naturales\n",
    "\n",
    "Álgebra Lineal Computacional 2°C 2023\n",
    "\n",
    "Mario Sigal Aguirre ~ 157/22 | Luca Jaichenco ~ 591/22"
   ]
  },
  {
   "cell_type": "code",
   "execution_count": 37,
   "metadata": {},
   "outputs": [],
   "source": [
    "# Imports\n",
    "import numpy as np\n",
    "import scipy\n",
    "import time\n",
    "import matplotlib.pyplot as plt\n",
    "np.random.seed(1)"
   ]
  },
  {
   "cell_type": "markdown",
   "metadata": {},
   "source": [
    "##### Creamos la funcion definir_matiz que genera una matiz n*n de numeros entre -1 y 1"
   ]
  },
  {
   "cell_type": "code",
   "execution_count": 38,
   "metadata": {},
   "outputs": [],
   "source": [
    "def definir_matriz(shape):\n",
    "    return np.random.uniform(-1,1, size=shape)"
   ]
  },
  {
   "cell_type": "markdown",
   "metadata": {},
   "source": [
    "#### Ejercicio 1: descompLU\n",
    "Dado $ A \\in \\mathbb{R}^{n \\times n}$, la funcion __descompLU__ calcula la descomposicion $LU$ de $A$. \n",
    "\n",
    "Se utiliza un algoritmo que realiza la descomposicion por bloques de forma recursiva, teniendo en cuenta el siguiente planteamiento:\n",
    "$$\n",
    "A = LU\n",
    "$$\n",
    "$$\n",
    "\\begin{pmatrix}\n",
    "        a_{11} & A_{12} \\\\\n",
    "        A_{21} & A_{22}\n",
    "    \\end{pmatrix}\n",
    "=\n",
    "\\begin{pmatrix}\n",
    "        1 & 0  \\\\\n",
    "        L_{21} & L_{22} \n",
    "    \\end{pmatrix}\n",
    "\\cdot\n",
    "\\begin{pmatrix}\n",
    "        u_{11} & U_{12}  \\\\\n",
    "        0 & U_{22}\n",
    "    \\end{pmatrix}\n",
    "$$\n",
    "\n",
    "$$\n",
    "\\begin{pmatrix}\n",
    "        a_{11} & A_{12} \\\\\n",
    "        A_{21} & A_{22}\n",
    "    \\end{pmatrix}\n",
    "=\n",
    "\\begin{pmatrix}\n",
    "        u_{11} & U_{12}  \\\\\n",
    "        L_{21}u_{11} & L_{21}U_{12} + L_{22}U_{22} \n",
    "    \\end{pmatrix}\n",
    "$$\n",
    "Se plantean las siguientes ecuaciones para obtener el contenido de los bloques.\n",
    "\n",
    "$$\n",
    "u_{11} = a_{11}\\\\\n",
    "\n",
    "U_{12} = A_{12}\\\\\n",
    "\n",
    "L_{21} = \\frac{A_{21}}{u_{11}}\\\\\n",
    "\n",
    "L_{22}U_{22} = A_{22} - L_{21}U_{12}\n",
    "$$\n",
    "\n",
    "Para obtener $L_{22}$ y $U_{22}$ se calcula recursivamente la descomposicion $LU$ del producto $L_{22}U_{22}$.\n",
    "\n",
    "\n",
    "El Algoritmo funciona siempre y cuando primer elemento de la diagonal de $A$ sea distinto de cero en cada paso de la recurcion.\n",
    "$$ a_{11} \\neq 0 $$\n",
    "\n",
    "En cazo contrario, la funcion devuelve a la matriz identidad $I_n$ y la matriz $A$ original.\n",
    "\n",
    "\n"
   ]
  },
  {
   "cell_type": "code",
   "execution_count": 30,
   "metadata": {},
   "outputs": [],
   "source": [
    "def descompLU(A):\n",
    "    n = A.shape[0]\n",
    "    \n",
    "    #Caso Base/Matriz de 1x1\n",
    "    if n == 1:\n",
    "        if A[0, 0] == 0:\n",
    "            print(\"Error: La Matriz tiene un 0 en la diagonal.\")\n",
    "            return np.eye(1), A  # Devuelve la matriz identidad y A original\n",
    "        else:\n",
    "            return np.array([[1]]), A  # Matriz L es 1x1 con valor 1 y U es A original\n",
    "\n",
    "    #Definiciones de bloques:\n",
    "         \n",
    "    a11 = A[0, 0] # Obs: Python guarda este valor como un float  \n",
    "    A12 = A[0, 1:]\n",
    "    A21 = A[1:, 0] # Obs: Python guarda este vector en formato horizontal\n",
    "    A22 = A[1:, 1:]\n",
    "\n",
    "    #Definiciones de matrices complementarias: \n",
    "    \n",
    "    I = np.eye(n)  # Matriz identidad de nxn\n",
    "    I22 = np.eye(n-1) # Matriz identidad menor\n",
    "    L = I\n",
    "    U = np.zeros((n, n))  # Matriz de ceros de nxn\n",
    "    \n",
    "    \n",
    "    # Calculos:\n",
    "    \n",
    "    # Calculamos u11 y U12\n",
    "    if a11 == 0:\n",
    "        print(\"Error: La Matriz tiene un 0 en la diagonal.\")\n",
    "        return L, A  # Devuelve la matriz identidad y A original\n",
    "    \n",
    "    u11 = a11\n",
    "    U12 = A12\n",
    "    \n",
    "    # Calculamos L21\n",
    "    L21 = A21 / u11\n",
    "    \n",
    "    \n",
    "    # Calculamos L22 y U22 recursivamente\n",
    "    L22U22 = A22 - L21.reshape(-1,1)@U12.reshape(1,-1)\n",
    "    L22, U22 = descompLU(L22U22)\n",
    "   \n",
    "    #Verificaciones:\n",
    "    \n",
    "    # Verifica si debe devlver (I_n, A) o (L, U)\n",
    "    # Dividimos los casos en si n == 2 y si n>2, pues en las matrices de 2x2, el bloque U22 siempre es igual a L22U22 y L22 es igual a la identiodad, el problema esta en que cuando n == 2 a su vez es necesario que U22 sea igual a 0 para que se interprete como una matriz singular y devuelva la identidad y la A original\n",
    "    if  n == 2 and np.array_equal(U22, L22U22) and np.array_equal(L22, I22) and U22 == [[0.]]: \n",
    "        return L, A  # Devuelve la matriz identidad y A original\n",
    "    if n>2 and np.array_equal(U22, L22U22) and np.array_equal(L22, I22): \n",
    "        return L, A  # Devuelve la matriz identidad y A original\n",
    "    \n",
    "    # Actualizaciones:\n",
    "    \n",
    "    # Actualizamos las matrices L y U\n",
    "    L[1:, 0] = L21\n",
    "    U[0, 0] = u11\n",
    "    U[0, 1:] = U12\n",
    "\n",
    "    # Actualizamos las matrices L y U con los bloques calculados recursivamente\n",
    "    L[1:, 1:] = L22\n",
    "    U[1:, 1:] = U22\n",
    "    \n",
    "    return L, U\n",
    "\n"
   ]
  },
  {
   "cell_type": "markdown",
   "metadata": {},
   "source": [
    "#### Ejercicio 3: resolverLU\n",
    "Dada una matriz $ A \\in \\mathbb{R}^{n \\times n}$ y un vectoir $ b \\in \\mathbb{R}^{n} $, la funcion __resolverLU__ devuelve la solucion $x$ del sistema $Ax = b$ mediante la descomposicion $LU$ de $A$, resolviendo los sistemas $Ly = b$ y $Ux = y$.\n",
    "\n",
    "Decidimos implementar la funcion de dos maneras distintas, una estando programanda directamente desde cero y otra usando la libreria __SciPy__. esto nos permitira analizar la eficiencia de ambas posteriormente.\n"
   ]
  },
  {
   "cell_type": "code",
   "execution_count": 91,
   "metadata": {},
   "outputs": [
    {
     "name": "stdout",
     "output_type": "stream",
     "text": [
      "[ 2.44444444 -0.55555556 -2.22222222 -0.33333333]\n"
     ]
    }
   ],
   "source": [
    "#resolverLU sin SciPy\n",
    "def resolverU(U,y): #resuelve el sistema de una matriz triangular superior\n",
    "    n= U.shape[1]\n",
    "    x=np.zeros(n)\n",
    "    \n",
    "    # Resuelve el sistema:\n",
    "    for i in range(n-1,-1,-1): #range(n-1,-1,-1) es un range planteado de manera inversa, siendo la sucesion: {n-1, n-2, ...., 2, 1}\n",
    "        suma = 0\n",
    "        for j in range(i+1,n):\n",
    "            suma = suma + U[i,j]*x[j]\n",
    "                    \n",
    "        x[i] = (y[i]- suma)/U[i,i]\n",
    "    return x\n",
    "\n",
    "def resolverL(L,b): #resuelve el sistema de una matriz triangular Inferior\n",
    "    \n",
    "    n= L.shape[1]\n",
    "    y=np.zeros(n)\n",
    "    \n",
    "    # Resuelve el sistema:\n",
    "    for i in range(0,n):\n",
    "        suma = 0\n",
    "        for j in range(0,i):\n",
    "            suma = suma + L[i,j]*y[j]     \n",
    "               \n",
    "        y[i] = (b[i]- suma)/L[i,i]\n",
    "    return y\n",
    "\n",
    "def resolverLU(A,b):\n",
    "    # Calcula la descomposicion LU\n",
    "    L, U = descompLU(A)\n",
    "\n",
    "    # Resuelve ambos sistemas:\n",
    "    y = resolverL(L,b)\n",
    "    x = resolverU(U,y)   \n",
    "    return x\n",
    "\n",
    "A = np.array([[1, 2, 0, 1], \n",
    "              [4, 3, 2, 5], \n",
    "              [2, 1, 0, 4], \n",
    "              [3, 2, 1, 0]])\n",
    "print(resolverLU(A, [1,2,3,4]))"
   ]
  },
  {
   "cell_type": "code",
   "execution_count": 92,
   "metadata": {},
   "outputs": [
    {
     "name": "stdout",
     "output_type": "stream",
     "text": [
      "[ 2.44444444 -0.55555556 -2.22222222 -0.33333333]\n"
     ]
    }
   ],
   "source": [
    "#resolverLU con SciPy\n",
    "def resolverLUSP(A, b):\n",
    "    # Calcula la descomposicion LU\n",
    "    L, U = descompLU(A)\n",
    "    \n",
    "    # Resuelve ambos sistemas:\n",
    "    y = scipy.linalg.solve_triangular(L,b, lower = True)\n",
    "    x = scipy.linalg.solve_triangular(U, y)\n",
    "    return x\n",
    "\n",
    "A = np.array([[1, 2, 0, 1], \n",
    "              [4, 3, 2, 5], \n",
    "              [2, 1, 0, 4], \n",
    "              [3, 2, 1, 0]])\n",
    "print(resolverLU(A, [1,2,3,4]))"
   ]
  },
  {
   "cell_type": "markdown",
   "metadata": {},
   "source": [
    "#### Ejercicio 4: Probar resolverLU y calcular el Error Relativo en Norma-2\n",
    "\n",
    "La funcion __error_rel_n2__ calcula el Error Relatico en Norma-2 entre dos vectores usando funciones de la libreria __NumPy__."
   ]
  },
  {
   "cell_type": "code",
   "execution_count": 43,
   "metadata": {},
   "outputs": [],
   "source": [
    "def error_rel_n2(x, y):\n",
    "    res = np.linalg.norm(x-y,ord=2)/np.linalg.norm(y,ord=2)\n",
    "    return res"
   ]
  },
  {
   "cell_type": "markdown",
   "metadata": {},
   "source": [
    "Definimos una matriz $A \\in \\mathbb{R}^{10 \\times 10}$  y un vector $b \\in \\mathbb{R}^{10}$, ambos de numeros aleatorios en [-1,1),\n",
    "para calcular el error relativo de norma-2:\n",
    "$$ \\frac{||Ax-b||_2}{||b||_2}."
   ]
  },
  {
   "cell_type": "code",
   "execution_count": 67,
   "metadata": {},
   "outputs": [
    {
     "name": "stdout",
     "output_type": "stream",
     "text": [
      "[ 0.34899769  0.10293767 -0.35670371  0.56040467 -0.70842914 -0.51023872\n",
      " -0.41537248 -0.60813611 -0.82412263  0.73995236]\n",
      "El error relativo entre \n",
      "Ax = [ 0.34899769  0.10293767 -0.35670371  0.56040467 -0.70842914 -0.51023872\n",
      " -0.41537248 -0.60813611 -0.82412263  0.73995236] \n",
      "y b = [ 0.34899769  0.10293767 -0.35670371  0.56040467 -0.70842914 -0.51023872\n",
      " -0.41537248 -0.60813611 -0.82412263  0.73995236]\n",
      "es: \n",
      "2.0696266901777334e-15.\n",
      "\n",
      "El error expresado en escala logaritmica es:\n",
      "-33.81140814680645 \n"
     ]
    }
   ],
   "source": [
    "# Definimos la matriz A y el vector b:\n",
    "A = definir_matriz((10,10))\n",
    "b = definir_matriz((1,10))[0]\n",
    "\n",
    "# Calculamos la solcion del sistema\n",
    "x = resolverLU(A, b)\n",
    "\n",
    "# Calculamos el error relativo en norma-2 y su logaritmo natural \n",
    "error = error_rel_n2(A@x, b)\n",
    "logerror = np.log(error_rel_n2(A@x, b))\n",
    "\n",
    "print(\"El error relativo entre \\nAx = {} \\ny b = {}\\nes: \\n{}.\\n\\nEl error expresado en escala logaritmica es:\\n{} \".format(A@x, b, error, logerror))\n"
   ]
  },
  {
   "cell_type": "markdown",
   "metadata": {},
   "source": [
    "#### Ejercicio 5: Cálculo de la Inversa\n",
    "\n",
    "La funcion __inversa__ recibe una matriz $A \\in \\mathbb{R}^{n \\times n}$ inversible y calcula su inversa por medio de su descomposicion $LU$ y la resolucion de los sistemas $Ly = b$ y $Ux = y$, siendo y los vectores de la base canónica $e_i, 1 \\leq i \\leq n $ .\n",
    "\n",
    "Al igual que en el ejercicio 3 Decidimos implementar la funcion de dos maneras distintas, una estando programanda directamente desde cero y otra usando la libreria __SciPy__. esto nos permitira analizar la eficiencia de ambas posteriormente."
   ]
  },
  {
   "cell_type": "code",
   "execution_count": 120,
   "metadata": {},
   "outputs": [
    {
     "data": {
      "text/plain": [
       "array([[-0.5       ,  1.        , -0.5       ],\n",
       "       [-0.5       , -2.        ,  1.5       ],\n",
       "       [ 0.83333333,  1.        , -0.83333333]])"
      ]
     },
     "execution_count": 120,
     "metadata": {},
     "output_type": "execute_result"
    }
   ],
   "source": [
    "#inversa sin SciPy\n",
    "#copiamos de vuelta resolverU y resolverL para que las celdas del ejercicio 3 y ejercicio 5 se puedan correr independientemente una de otra\n",
    "def resolverU(U,y): #resuelve el sistema de una matriz triangular superior\n",
    "    n = U.shape[1]\n",
    "    x = np.zeros(n)\n",
    "    # Resuelve el sistema:\n",
    "    for i in range(n-1,-1,-1): #range(n-1,-1,-1) es un range planteado de manera inversa, siendo la sucesion: {n-1, n-2, ...., 2, 1}\n",
    "        suma = 0\n",
    "        for j in range(i+1,n):\n",
    "            suma = suma + U[i,j]*x[j]\n",
    "                    \n",
    "        x[i] = (y[i]- suma)/U[i,i]\n",
    "    return x\n",
    "\n",
    "def resolverL(L,b): #resuelve el sistema de una matriz triangular Inferior\n",
    "    \n",
    "    n = L.shape[1]\n",
    "    y=np.zeros(n)\n",
    "    \n",
    "    # Resuelve el sistema:\n",
    "    for i in range(0,n):\n",
    "        suma = 0\n",
    "        for j in range(0,i):\n",
    "            suma = suma + L[i,j]*y[j]     \n",
    "               \n",
    "        y[i] = (b[i]- suma)/L[i,i]\n",
    "    return y\n",
    "\n",
    "\n",
    "def inversa(A):\n",
    "    \n",
    "    # Calcula la descomposicion LU :\n",
    "    L, U = descompLU(A)\n",
    "    \n",
    "    # Se Definen otras matrices a utilizar:\n",
    "    n = A.shape[0]\n",
    "    I = np.eye(n)\n",
    "    Inv = np.zeros((n,n))\n",
    "    \n",
    "    # para cada vector columna de la matriz identidad: \n",
    "    for i in range(n):\n",
    "        e_i = I[0:, i]\n",
    "        \n",
    "        #Resuelve los sistemas:\n",
    "        y = resolverL(L,e_i)\n",
    "        x = resolverU(U,y)\n",
    "        \n",
    "        #incorpora los vectores obtenidos a la matriz inversa:\n",
    "        Inv[0:, i]=x\n",
    "        \n",
    "    return Inv\n",
    "\n"
   ]
  },
  {
   "cell_type": "code",
   "execution_count": 121,
   "metadata": {},
   "outputs": [
    {
     "data": {
      "text/plain": [
       "array([[-0.5       ,  1.        , -0.5       ],\n",
       "       [-0.5       , -2.        ,  1.5       ],\n",
       "       [ 0.83333333,  1.        , -0.83333333]])"
      ]
     },
     "execution_count": 121,
     "metadata": {},
     "output_type": "execute_result"
    }
   ],
   "source": [
    "#inversa con SciPy\n",
    "def inversa(A):\n",
    "    L, U = descompLU(A)\n",
    "    In = np.eye(A.shape[0])\n",
    "    y = scipy.linalg.solve_triangular(L, In, lower = True)\n",
    "    x = scipy.linalg.solve_triangular(U, y)\n",
    "    return x\n"
   ]
  },
  {
   "cell_type": "code",
   "execution_count": 54,
   "metadata": {},
   "outputs": [
    {
     "name": "stdout",
     "output_type": "stream",
     "text": [
      "Error: La Matriz tiene un 0 en la diagonal.\n",
      "[[1. 0. 0.]\n",
      " [0. 1. 0.]\n",
      " [0. 0. 1.]]\n",
      "[[1 2 3]\n",
      " [4 5 6]\n",
      " [7 8 9]]\n",
      "[[1.  0.  0.  0. ]\n",
      " [4.  1.  0.  0. ]\n",
      " [2.  0.6 1.  0. ]\n",
      " [3.  0.8 0.5 1. ]]\n",
      "[[ 1.   2.   0.   1. ]\n",
      " [ 0.  -5.   2.   1. ]\n",
      " [ 0.   0.  -1.2  1.4]\n",
      " [ 0.   0.   0.  -4.5]]\n"
     ]
    }
   ],
   "source": [
    "\n",
    "A2 = np.array([[1, 2, 3],\n",
    "               [4, 5, 6],\n",
    "               [7, 8, 9]])\n",
    "\n",
    "L2, U2 = descompLU(A2)\n",
    "\n",
    "print(L2)\n",
    "print(U2)\n",
    "\n",
    "A = np.array([[1, 2, 0, 1], \n",
    "              [4, 3, 2, 5], \n",
    "              [2, 1, 0, 4], \n",
    "              [3, 2, 1, 0]])\n",
    "\n",
    "B = np.array([[1, 2, 3],\n",
    "              [2, 4, 6],\n",
    "              [3, 6, 9]])\n",
    "\n",
    "A_res1 = np.array([[1.,  0. , 0. , 0. ],\n",
    "                   [4. , 1.,  0. , 0. ],\n",
    "                   [2. , 0.6 ,1. , 0. ],\n",
    "                   [3.,  0.8, 0.5 ,1. ]])\n",
    "\n",
    "A_res2 =  np.array([[ 1. ,  2.  , 0. ,  1. ],\n",
    "                    [ 0. , -5. ,  2.,  1. ],\n",
    "                    [ 0. ,  0.,  -1.2 , 1.4],\n",
    "                    [ 0. ,  0.,   0. , -4.]])\n",
    "L, U = descompLU(A)\n",
    "\n",
    "print(L)\n",
    "print(U)"
   ]
  },
  {
   "cell_type": "code",
   "execution_count": 34,
   "metadata": {},
   "outputs": [],
   "source": [
    "#tests\n",
    "import unittest\n",
    "class TestSuite(unittest.TestCase):\n",
    "    def test_caso_1(self):\n",
    "        res1, res2 = descompLU(A)\n",
    "        self.assertEqual(res1, A_res1)\n",
    "        self.assertEqual(res2, A_res2)\n"
   ]
  }
 ],
 "metadata": {
  "kernelspec": {
   "display_name": "Python 3",
   "language": "python",
   "name": "python3"
  },
  "language_info": {
   "codemirror_mode": {
    "name": "ipython",
    "version": 3
   },
   "file_extension": ".py",
   "mimetype": "text/x-python",
   "name": "python",
   "nbconvert_exporter": "python",
   "pygments_lexer": "ipython3",
   "version": "3.11.5"
  },
  "orig_nbformat": 4
 },
 "nbformat": 4,
 "nbformat_minor": 2
}
